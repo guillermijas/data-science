{
 "cells": [
  {
   "cell_type": "markdown",
   "metadata": {},
   "source": [
    "# Mongo DB con Python\n",
    "\n",
    "##### Inicialización de la base de datos\n",
    "\n",
    "Para importart los datos a nuestra base de datos MongoDB, vamos a crear un pequeño programa en python para importar desde el fichero _incidentes.csv_ que hemos visto en la entrega anterior.\n",
    "\n"
   ]
  },
  {
   "cell_type": "code",
   "execution_count": 2,
   "metadata": {},
   "outputs": [
    {
     "name": "stderr",
     "output_type": "stream",
     "text": [
      "100% |########################################################################|\n"
     ]
    }
   ],
   "source": [
    "#!/usr/bin/env python\n",
    "import os\n",
    "from pymongo import MongoClient\n",
    "import pandas as pd\n",
    "import json\n",
    "import progressbar\n",
    "\n",
    "STEP = 200\n",
    "\n",
    "client = MongoClient()\n",
    "db = client['datascience']\n",
    "incid = db.incidents\n",
    "incid.delete_many({})\n",
    "csv = pd.read_csv('/home/guillermo/data-science/cpp_db/incidents.csv', sep=';')\n",
    "\n",
    "bar = progressbar.ProgressBar()\n",
    "for start in bar(range(0, len(csv.index), STEP)):\n",
    "    partial_csv = csv.loc[start:(start + STEP), :]\n",
    "    csv_to_json = json.loads(partial_csv.to_json(orient='records'))\n",
    "    incid.insert_many(csv_to_json)\n",
    "    del partial_csv\n",
    "    del csv_to_json\n"
   ]
  },
  {
   "cell_type": "markdown",
   "metadata": {},
   "source": [
    "Con esto, ya podemos hacer operaciones con los datos. En esta entrega nos centraremos en las consultas que podemos ver en el archivo README.md del proyecto.\n",
    "\n",
    "#### Preparar las consultas\n",
    "\n",
    "Para empezar a hacer consultas en PyMongo, primero tenemos que importar los paquetes necesarios, inicializar las variables de gráficas y conectar la base de datos a python:\n"
   ]
  },
  {
   "cell_type": "code",
   "execution_count": 23,
   "metadata": {},
   "outputs": [
    {
     "name": "stdout",
     "output_type": "stream",
     "text": [
      "Mongo version 3.6.1\n"
     ]
    }
   ],
   "source": [
    "import pandas as pd\n",
    "import sys\n",
    "sys.path.insert(0,'..')\n",
    "import pymongo\n",
    "from pymongo import MongoClient\n",
    "import matplotlib.pyplot as plt\n",
    "\n",
    "print('Mongo version', pymongo.__version__)\n",
    "client = MongoClient('localhost', 27017)\n",
    "db = client.datascience\n",
    "collection = db.incidents"
   ]
  },
  {
   "cell_type": "markdown",
   "metadata": {},
   "source": [
    "Con esto, ya estamos conectados y listos para hacer consultas.\n",
    "\n",
    "####  Distritos con mayor número de incidencias\n",
    "\n",
    "Para esta consulta, lo que tenemos que conseguir son las incidencias agrupadas por distritos."
   ]
  },
  {
   "cell_type": "code",
   "execution_count": 3,
   "metadata": {},
   "outputs": [
    {
     "name": "stdout",
     "output_type": "stream",
     "text": [
      "Distritos encontrados:  11\n"
     ]
    },
    {
     "data": {
      "text/html": [
       "<div>\n",
       "<style scoped>\n",
       "    .dataframe tbody tr th:only-of-type {\n",
       "        vertical-align: middle;\n",
       "    }\n",
       "\n",
       "    .dataframe tbody tr th {\n",
       "        vertical-align: top;\n",
       "    }\n",
       "\n",
       "    .dataframe thead th {\n",
       "        text-align: right;\n",
       "    }\n",
       "</style>\n",
       "<table border=\"1\" class=\"dataframe\">\n",
       "  <thead>\n",
       "    <tr style=\"text-align: right;\">\n",
       "      <th></th>\n",
       "      <th>_id</th>\n",
       "      <th>count</th>\n",
       "    </tr>\n",
       "  </thead>\n",
       "  <tbody>\n",
       "    <tr>\n",
       "      <th>0</th>\n",
       "      <td>RICHMOND</td>\n",
       "      <td>115715</td>\n",
       "    </tr>\n",
       "    <tr>\n",
       "      <th>1</th>\n",
       "      <td>TARAVAL</td>\n",
       "      <td>165447</td>\n",
       "    </tr>\n",
       "    <tr>\n",
       "      <th>2</th>\n",
       "      <td>NORTHERN</td>\n",
       "      <td>270115</td>\n",
       "    </tr>\n",
       "    <tr>\n",
       "      <th>3</th>\n",
       "      <td>0</td>\n",
       "      <td>1</td>\n",
       "    </tr>\n",
       "    <tr>\n",
       "      <th>4</th>\n",
       "      <td>PARK</td>\n",
       "      <td>124399</td>\n",
       "    </tr>\n",
       "    <tr>\n",
       "      <th>5</th>\n",
       "      <td>CENTRAL</td>\n",
       "      <td>223355</td>\n",
       "    </tr>\n",
       "    <tr>\n",
       "      <th>6</th>\n",
       "      <td>INGLESIDE</td>\n",
       "      <td>192696</td>\n",
       "    </tr>\n",
       "    <tr>\n",
       "      <th>7</th>\n",
       "      <td>MISSION</td>\n",
       "      <td>297224</td>\n",
       "    </tr>\n",
       "    <tr>\n",
       "      <th>8</th>\n",
       "      <td>BAYVIEW</td>\n",
       "      <td>219482</td>\n",
       "    </tr>\n",
       "    <tr>\n",
       "      <th>9</th>\n",
       "      <td>TENDERLOIN</td>\n",
       "      <td>190832</td>\n",
       "    </tr>\n",
       "    <tr>\n",
       "      <th>10</th>\n",
       "      <td>SOUTHERN</td>\n",
       "      <td>395889</td>\n",
       "    </tr>\n",
       "  </tbody>\n",
       "</table>\n",
       "</div>"
      ],
      "text/plain": [
       "           _id   count\n",
       "0     RICHMOND  115715\n",
       "1      TARAVAL  165447\n",
       "2     NORTHERN  270115\n",
       "3            0       1\n",
       "4         PARK  124399\n",
       "5      CENTRAL  223355\n",
       "6    INGLESIDE  192696\n",
       "7      MISSION  297224\n",
       "8      BAYVIEW  219482\n",
       "9   TENDERLOIN  190832\n",
       "10    SOUTHERN  395889"
      ]
     },
     "execution_count": 3,
     "metadata": {},
     "output_type": "execute_result"
    }
   ],
   "source": [
    "incid_by_district = [\n",
    "    {\"$group\": {\"_id\": \"$PdDistrict\", \"count\": {\"$sum\": 1}}}\n",
    "]\n",
    "aggResult = collection.aggregate(incid_by_district, allowDiskUse= True)\n",
    "dist_count = pd.DataFrame(list(aggResult))\n",
    "print(\"Distritos encontrados: \", dist_count[\"_id\"].size)\n",
    "dist_count"
   ]
  },
  {
   "cell_type": "markdown",
   "metadata": {},
   "source": [
    "En este caso vemos que hay una fila cuyo nombre es \"0\". Esto puede deberse a que el campo aparece como nulo o ha habido un error en la importación de los datos. Ahora mostraremos los distritos en una gráfica para poder analizarlos mejor.\n"
   ]
  },
  {
   "cell_type": "code",
   "execution_count": 7,
   "metadata": {
    "scrolled": false
   },
   "outputs": [
    {
     "name": "stdout",
     "output_type": "stream",
     "text": [
      "Incidentes por distrito\n"
     ]
    },
    {
     "data": {
      "image/png": "[encoded data removed]",
      "text/plain": [
       "<matplotlib.figure.Figure at 0x7ff2285e8cf8>"
      ]
     },
     "metadata": {},
     "output_type": "display_data"
    }
   ],
   "source": [
    "labels = dist_count['_id']\n",
    "incidents = dist_count['count']\n",
    "\n",
    "plt.pie(incidents, labels=labels, autopct='%1.1f%%')\n",
    "print('Incidentes por distrito')"
   ]
  },
  {
   "cell_type": "markdown",
   "metadata": {},
   "source": [
    "####  Día de la semana con mayor número de incidentes\n",
    "\n",
    "En este caso, agruparemos los incidentes por día de la semana y los ordenaremos de mayor a menor. Los tres primeros serán aquellos en los que mas incidentes se produzcan."
   ]
  },
  {
   "cell_type": "code",
   "execution_count": 12,
   "metadata": {
    "scrolled": true
   },
   "outputs": [
    {
     "name": "stdout",
     "output_type": "stream",
     "text": [
      "Días de la semana:  7\n"
     ]
    },
    {
     "data": {
      "text/html": [
       "<div>\n",
       "<style scoped>\n",
       "    .dataframe tbody tr th:only-of-type {\n",
       "        vertical-align: middle;\n",
       "    }\n",
       "\n",
       "    .dataframe tbody tr th {\n",
       "        vertical-align: top;\n",
       "    }\n",
       "\n",
       "    .dataframe thead th {\n",
       "        text-align: right;\n",
       "    }\n",
       "</style>\n",
       "<table border=\"1\" class=\"dataframe\">\n",
       "  <thead>\n",
       "    <tr style=\"text-align: right;\">\n",
       "      <th></th>\n",
       "      <th>_id</th>\n",
       "      <th>count</th>\n",
       "    </tr>\n",
       "  </thead>\n",
       "  <tbody>\n",
       "    <tr>\n",
       "      <th>0</th>\n",
       "      <td>Friday</td>\n",
       "      <td>334790</td>\n",
       "    </tr>\n",
       "    <tr>\n",
       "      <th>1</th>\n",
       "      <td>Wednesday</td>\n",
       "      <td>321096</td>\n",
       "    </tr>\n",
       "    <tr>\n",
       "      <th>2</th>\n",
       "      <td>Saturday</td>\n",
       "      <td>317543</td>\n",
       "    </tr>\n",
       "  </tbody>\n",
       "</table>\n",
       "</div>"
      ],
      "text/plain": [
       "         _id   count\n",
       "0     Friday  334790\n",
       "1  Wednesday  321096\n",
       "2   Saturday  317543"
      ]
     },
     "execution_count": 12,
     "metadata": {},
     "output_type": "execute_result"
    }
   ],
   "source": [
    "day_incidences = [\n",
    "    {\"$group\": {\"_id\": \"$DayOfWeek\", \"count\": {\"$sum\": 1}}},\n",
    "    {\"$sort\": { \"count\": -1 }}\n",
    "]\n",
    "aggResult2 = collection.aggregate(day_incidences, allowDiskUse= True)\n",
    "day_incid = pd.DataFrame(list(aggResult2))\n",
    "print(\"Días de la semana: \", day_incid[\"_id\"].size)\n",
    "day_incid.head(3)"
   ]
  },
  {
   "cell_type": "markdown",
   "metadata": {},
   "source": [
    "Con esto concluimos que los días que más incidencias registran son los viernes, miércoles y sábados.\n",
    "\n",
    "#### Incidencias que impliquen la acción de un perro\n",
    "\n",
    "Estos incidentes tienen en común que aparece la palabra _DOG_ en su campo descripción. Para consultarlos, haremos uso de las expresiones regulares de MongoDB"
   ]
  },
  {
   "cell_type": "code",
   "execution_count": 9,
   "metadata": {},
   "outputs": [
    {
     "name": "stdout",
     "output_type": "stream",
     "text": [
      "Incidentes causados por perros:  3691\n"
     ]
    },
    {
     "data": {
      "text/html": [
       "<div>\n",
       "<style scoped>\n",
       "    .dataframe tbody tr th:only-of-type {\n",
       "        vertical-align: middle;\n",
       "    }\n",
       "\n",
       "    .dataframe tbody tr th {\n",
       "        vertical-align: top;\n",
       "    }\n",
       "\n",
       "    .dataframe thead th {\n",
       "        text-align: right;\n",
       "    }\n",
       "</style>\n",
       "<table border=\"1\" class=\"dataframe\">\n",
       "  <thead>\n",
       "    <tr style=\"text-align: right;\">\n",
       "      <th></th>\n",
       "      <th>Address</th>\n",
       "      <th>Category</th>\n",
       "      <th>Date</th>\n",
       "      <th>DayOfWeek</th>\n",
       "      <th>Descript</th>\n",
       "      <th>IncidntNum</th>\n",
       "      <th>Location</th>\n",
       "      <th>PdDistrict</th>\n",
       "      <th>PdId</th>\n",
       "      <th>Resolution</th>\n",
       "      <th>Time</th>\n",
       "      <th>X</th>\n",
       "      <th>Y</th>\n",
       "      <th>_id</th>\n",
       "    </tr>\n",
       "  </thead>\n",
       "  <tbody>\n",
       "    <tr>\n",
       "      <th>0</th>\n",
       "      <td>1000 Block of FOLSOM ST</td>\n",
       "      <td>NON-CRIMINAL</td>\n",
       "      <td>2015-02-01</td>\n",
       "      <td>Sunday</td>\n",
       "      <td>AIDED CASE, DOG BITE</td>\n",
       "      <td>150098630</td>\n",
       "      <td>(37.778254811523, -122.405834032593)</td>\n",
       "      <td>SOUTHERN</td>\n",
       "      <td>15009863064010</td>\n",
       "      <td>NONE</td>\n",
       "      <td>18:38:00</td>\n",
       "      <td>-122.405834</td>\n",
       "      <td>37.778255</td>\n",
       "      <td>5adf345f183a4f700046816a</td>\n",
       "    </tr>\n",
       "    <tr>\n",
       "      <th>1</th>\n",
       "      <td>700 Block of STANYAN ST</td>\n",
       "      <td>NON-CRIMINAL</td>\n",
       "      <td>2015-02-06</td>\n",
       "      <td>Friday</td>\n",
       "      <td>AIDED CASE, DOG BITE</td>\n",
       "      <td>150113539</td>\n",
       "      <td>(37.7687142722405, -122.453376250788)</td>\n",
       "      <td>PARK</td>\n",
       "      <td>15011353964010</td>\n",
       "      <td>NONE</td>\n",
       "      <td>08:25:00</td>\n",
       "      <td>-122.453376</td>\n",
       "      <td>37.768714</td>\n",
       "      <td>5adf345f183a4f700046881e</td>\n",
       "    </tr>\n",
       "    <tr>\n",
       "      <th>2</th>\n",
       "      <td>300 Block of EDINBURGH ST</td>\n",
       "      <td>NON-CRIMINAL</td>\n",
       "      <td>2015-01-28</td>\n",
       "      <td>Wednesday</td>\n",
       "      <td>AIDED CASE, DOG BITE</td>\n",
       "      <td>150122295</td>\n",
       "      <td>(37.7235205085999, -122.430194700261)</td>\n",
       "      <td>INGLESIDE</td>\n",
       "      <td>15012229564010</td>\n",
       "      <td>NONE</td>\n",
       "      <td>18:30:00</td>\n",
       "      <td>-122.430195</td>\n",
       "      <td>37.723521</td>\n",
       "      <td>5adf345f183a4f7000468bf0</td>\n",
       "    </tr>\n",
       "    <tr>\n",
       "      <th>3</th>\n",
       "      <td>100 Block of TARAVAL ST</td>\n",
       "      <td>NON-CRIMINAL</td>\n",
       "      <td>2015-02-09</td>\n",
       "      <td>Monday</td>\n",
       "      <td>AIDED CASE, DOG BITE</td>\n",
       "      <td>150123817</td>\n",
       "      <td>(37.743577781095, -122.466458192036)</td>\n",
       "      <td>TARAVAL</td>\n",
       "      <td>15012381764010</td>\n",
       "      <td>NONE</td>\n",
       "      <td>20:20:00</td>\n",
       "      <td>-122.466458</td>\n",
       "      <td>37.743578</td>\n",
       "      <td>5adf345f183a4f7000468ca9</td>\n",
       "    </tr>\n",
       "    <tr>\n",
       "      <th>4</th>\n",
       "      <td>0 Block of BROADWAY ST</td>\n",
       "      <td>NON-CRIMINAL</td>\n",
       "      <td>2015-02-12</td>\n",
       "      <td>Thursday</td>\n",
       "      <td>AIDED CASE, DOG BITE</td>\n",
       "      <td>150132153</td>\n",
       "      <td>(37.798931272055, -122.398114598896)</td>\n",
       "      <td>CENTRAL</td>\n",
       "      <td>15013215364010</td>\n",
       "      <td>NONE</td>\n",
       "      <td>13:30:00</td>\n",
       "      <td>-122.398115</td>\n",
       "      <td>37.798931</td>\n",
       "      <td>5adf345f183a4f7000469064</td>\n",
       "    </tr>\n",
       "    <tr>\n",
       "      <th>5</th>\n",
       "      <td>1300 Block of 28TH AV</td>\n",
       "      <td>NON-CRIMINAL</td>\n",
       "      <td>2015-02-15</td>\n",
       "      <td>Sunday</td>\n",
       "      <td>AIDED CASE, DOG BITE</td>\n",
       "      <td>150141154</td>\n",
       "      <td>(37.7621853429495, -122.486772988151)</td>\n",
       "      <td>TARAVAL</td>\n",
       "      <td>15014115464010</td>\n",
       "      <td>ARREST, BOOKED</td>\n",
       "      <td>16:45:00</td>\n",
       "      <td>-122.486773</td>\n",
       "      <td>37.762185</td>\n",
       "      <td>5adf345f183a4f700046944a</td>\n",
       "    </tr>\n",
       "    <tr>\n",
       "      <th>6</th>\n",
       "      <td>BOWLINGGREEN DR / MARTIN LUTHER KING JR DR</td>\n",
       "      <td>NON-CRIMINAL</td>\n",
       "      <td>2015-02-16</td>\n",
       "      <td>Monday</td>\n",
       "      <td>AIDED CASE, DOG BITE</td>\n",
       "      <td>150143984</td>\n",
       "      <td>(37.7674489968121, -122.460676556023)</td>\n",
       "      <td>PARK</td>\n",
       "      <td>15014398464010</td>\n",
       "      <td>NONE</td>\n",
       "      <td>15:45:00</td>\n",
       "      <td>-122.460677</td>\n",
       "      <td>37.767449</td>\n",
       "      <td>5adf345f183a4f7000469592</td>\n",
       "    </tr>\n",
       "  </tbody>\n",
       "</table>\n",
       "</div>"
      ],
      "text/plain": [
       "                                      Address      Category        Date  \\\n",
       "0                     1000 Block of FOLSOM ST  NON-CRIMINAL  2015-02-01   \n",
       "1                     700 Block of STANYAN ST  NON-CRIMINAL  2015-02-06   \n",
       "2                   300 Block of EDINBURGH ST  NON-CRIMINAL  2015-01-28   \n",
       "3                     100 Block of TARAVAL ST  NON-CRIMINAL  2015-02-09   \n",
       "4                      0 Block of BROADWAY ST  NON-CRIMINAL  2015-02-12   \n",
       "5                       1300 Block of 28TH AV  NON-CRIMINAL  2015-02-15   \n",
       "6  BOWLINGGREEN DR / MARTIN LUTHER KING JR DR  NON-CRIMINAL  2015-02-16   \n",
       "\n",
       "   DayOfWeek              Descript  IncidntNum  \\\n",
       "0     Sunday  AIDED CASE, DOG BITE   150098630   \n",
       "1     Friday  AIDED CASE, DOG BITE   150113539   \n",
       "2  Wednesday  AIDED CASE, DOG BITE   150122295   \n",
       "3     Monday  AIDED CASE, DOG BITE   150123817   \n",
       "4   Thursday  AIDED CASE, DOG BITE   150132153   \n",
       "5     Sunday  AIDED CASE, DOG BITE   150141154   \n",
       "6     Monday  AIDED CASE, DOG BITE   150143984   \n",
       "\n",
       "                                Location PdDistrict            PdId  \\\n",
       "0   (37.778254811523, -122.405834032593)   SOUTHERN  15009863064010   \n",
       "1  (37.7687142722405, -122.453376250788)       PARK  15011353964010   \n",
       "2  (37.7235205085999, -122.430194700261)  INGLESIDE  15012229564010   \n",
       "3   (37.743577781095, -122.466458192036)    TARAVAL  15012381764010   \n",
       "4   (37.798931272055, -122.398114598896)    CENTRAL  15013215364010   \n",
       "5  (37.7621853429495, -122.486772988151)    TARAVAL  15014115464010   \n",
       "6  (37.7674489968121, -122.460676556023)       PARK  15014398464010   \n",
       "\n",
       "       Resolution      Time           X          Y                       _id  \n",
       "0            NONE  18:38:00 -122.405834  37.778255  5adf345f183a4f700046816a  \n",
       "1            NONE  08:25:00 -122.453376  37.768714  5adf345f183a4f700046881e  \n",
       "2            NONE  18:30:00 -122.430195  37.723521  5adf345f183a4f7000468bf0  \n",
       "3            NONE  20:20:00 -122.466458  37.743578  5adf345f183a4f7000468ca9  \n",
       "4            NONE  13:30:00 -122.398115  37.798931  5adf345f183a4f7000469064  \n",
       "5  ARREST, BOOKED  16:45:00 -122.486773  37.762185  5adf345f183a4f700046944a  \n",
       "6            NONE  15:45:00 -122.460677  37.767449  5adf345f183a4f7000469592  "
      ]
     },
     "execution_count": 9,
     "metadata": {},
     "output_type": "execute_result"
    }
   ],
   "source": [
    "incid_dogs = [\n",
    "  {\"$match\": {\"Descript\": {\"$regex\": \".*DOG.*\"}}}\n",
    "]\n",
    "aggResult3 = collection.aggregate(incid_dogs)\n",
    "dog_no_res = pd.DataFrame(list(aggResult3))\n",
    "print(\"Incidentes causados por perros: \", dog_no_res[\"_id\"].size)\n",
    "dog_no_res.head(7)"
   ]
  },
  {
   "cell_type": "markdown",
   "metadata": {},
   "source": [
    "#### Las 5 categorías más frecuentes.\n",
    "\n",
    "Al igual que en el caso de los días, agrupamos los incidentes por categoría y ordenamos de mayor a menor"
   ]
  },
  {
   "cell_type": "code",
   "execution_count": 11,
   "metadata": {},
   "outputs": [
    {
     "name": "stdout",
     "output_type": "stream",
     "text": [
      "Contador:  39\n"
     ]
    },
    {
     "data": {
      "text/html": [
       "<div>\n",
       "<style scoped>\n",
       "    .dataframe tbody tr th:only-of-type {\n",
       "        vertical-align: middle;\n",
       "    }\n",
       "\n",
       "    .dataframe tbody tr th {\n",
       "        vertical-align: top;\n",
       "    }\n",
       "\n",
       "    .dataframe thead th {\n",
       "        text-align: right;\n",
       "    }\n",
       "</style>\n",
       "<table border=\"1\" class=\"dataframe\">\n",
       "  <thead>\n",
       "    <tr style=\"text-align: right;\">\n",
       "      <th></th>\n",
       "      <th>_id</th>\n",
       "      <th>count</th>\n",
       "    </tr>\n",
       "  </thead>\n",
       "  <tbody>\n",
       "    <tr>\n",
       "      <th>0</th>\n",
       "      <td>LARCENY/THEFT</td>\n",
       "      <td>473931</td>\n",
       "    </tr>\n",
       "    <tr>\n",
       "      <th>1</th>\n",
       "      <td>OTHER OFFENSES</td>\n",
       "      <td>307251</td>\n",
       "    </tr>\n",
       "    <tr>\n",
       "      <th>2</th>\n",
       "      <td>NON-CRIMINAL</td>\n",
       "      <td>235977</td>\n",
       "    </tr>\n",
       "    <tr>\n",
       "      <th>3</th>\n",
       "      <td>ASSAULT</td>\n",
       "      <td>192645</td>\n",
       "    </tr>\n",
       "    <tr>\n",
       "      <th>4</th>\n",
       "      <td>VEHICLE THEFT</td>\n",
       "      <td>126273</td>\n",
       "    </tr>\n",
       "  </tbody>\n",
       "</table>\n",
       "</div>"
      ],
      "text/plain": [
       "              _id   count\n",
       "0   LARCENY/THEFT  473931\n",
       "1  OTHER OFFENSES  307251\n",
       "2    NON-CRIMINAL  235977\n",
       "3         ASSAULT  192645\n",
       "4   VEHICLE THEFT  126273"
      ]
     },
     "execution_count": 11,
     "metadata": {},
     "output_type": "execute_result"
    }
   ],
   "source": [
    "common_categories = [\n",
    "    {\"$group\": {\"_id\": \"$Category\", \"count\": {\"$sum\": 1}}},\n",
    "    {\"$sort\": { \"count\": -1 }}\n",
    "]\n",
    "aggResult4 = collection.aggregate(common_categories)\n",
    "comm_categ = pd.DataFrame(list(aggResult4))\n",
    "print(\"Contador: \", comm_categ[\"_id\"].size)\n",
    "comm_categ.head(5)"
   ]
  },
  {
   "cell_type": "markdown",
   "metadata": {},
   "source": [
    "#### Incidentes sin resolución\n",
    "\n",
    "Para ello, se necesita buscar aquellas incidencias que tengan un campo _Resolution_ con valor _NONE_."
   ]
  },
  {
   "cell_type": "code",
   "execution_count": 24,
   "metadata": {},
   "outputs": [
    {
     "name": "stdout",
     "output_type": "stream",
     "text": [
      "Incidentes sin resolver:  1373312\n"
     ]
    }
   ],
   "source": [
    "no_resolution = [\n",
    "  {\"$match\": {\"Resolution\": \"NONE\"}}\n",
    "]\n",
    "aggResult5 = collection.aggregate(no_resolution)\n",
    "no_res = pd.DataFrame(list(aggResult5))\n",
    "print(\"Incidentes sin resolver: \", no_res[\"_id\"].size)"
   ]
  },
  {
   "cell_type": "markdown",
   "metadata": {},
   "source": [
    "Como es un número muy alto y no ofrece mucha información, vamos a mostrarlo en forma de gráfico de barras:"
   ]
  },
  {
   "cell_type": "code",
   "execution_count": 29,
   "metadata": {
    "scrolled": true
   },
   "outputs": [
    {
     "name": "stdout",
     "output_type": "stream",
     "text": [
      "Incidentes sin resolución\n"
     ]
    },
    {
     "data": {
      "image/png": "[encoded data removed]",
      "text/plain": [
       "<matplotlib.figure.Figure at 0x7ff22804c048>"
      ]
     },
     "metadata": {},
     "output_type": "display_data"
    }
   ],
   "source": [
    "categories = no_res['Category'].value_counts()\n",
    "plt.figure(figsize=(20,5))\n",
    "\n",
    "y = []\n",
    "for num_incid in categories.values:\n",
    "    y.append(categoria_valor)\n",
    "\n",
    "x = []\n",
    "for category_name in categories.index:\n",
    "    x.append(category_name)\n",
    "    \n",
    "plt.bar(eje_x, eje_y, align=\"center\", color=\"#bada55\")\n",
    "print('Incidentes sin resolución')"
   ]
  },
  {
   "cell_type": "markdown",
   "metadata": {},
   "source": [
    "Ahora, más gráfico el resultado, podemos ver que la mayor parte de incidentes sin resolución son robos y hurtos, seguido de lejos por incidentes no criminales."
   ]
  },
  {
   "cell_type": "code",
   "execution_count": null,
   "metadata": {},
   "outputs": [],
   "source": []
  }
 ],
 "metadata": {
  "kernelspec": {
   "display_name": "Python 3",
   "language": "python",
   "name": "python3"
  },
  "language_info": {
   "codemirror_mode": {
    "name": "ipython",
    "version": 3
   },
   "file_extension": ".py",
   "mimetype": "text/x-python",
   "name": "python",
   "nbconvert_exporter": "python",
   "pygments_lexer": "ipython3",
   "version": "3.6.4"
  }
 },
 "nbformat": 4,
 "nbformat_minor": 2
}
