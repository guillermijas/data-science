{
 "cells": [
  {
   "cell_type": "markdown",
   "metadata": {
    "scrolled": true
   },
   "source": [
    "<h1>Neo4J y Python</h1>\n",
    "\n",
    "<p>Para conectar Neo4J con Python se ha optado por utilizar la librería Py2neo. En primer lugar, se instala mediante el siguiente comando: <br><br>\n",
    "<b>$ pip install py2neo</b> <br>\n",
    "El siguiente paso es importar las librerías necesarias para realizar las consultas a Neo4J y para mostrar los datos:<br>\n",
    "<ul>\n",
    "    <li>\n",
    "        <b>py2neo:</b> instalada anteriormente. Es el conector entre Python y Neo4J, las consultas a la base de datos se realizan gracias a él.\n",
    "    </li>\n",
    "    <li>\n",
    "        <b>numpy: </b>necesaria para manejar Arrays en Python entre otras funciones.</li>\n",
    "    <li>\n",
    "        <b>pandas: </b>proporciona herramientas para el análisis de datos.\n",
    "    </li>\n",
    "    <li>\n",
    "        <b>matplotlib: </b>utiliza los datos obtenidos para generar diferentes gráficas.\n",
    "    </li>\n",
    "</ul>\n",
    "\n",
    "Se utiliza la función <i>authenticate</i> de Py2neo para especificar el usuario y contraseña necesarios para acceder a la base de datos. Además se genera un objeto Graph, mediante el cual se realizarán las consultas.\n",
    "\n",
    "</p>"
   ]
  },
  {
   "cell_type": "code",
   "execution_count": 46,
   "metadata": {},
   "outputs": [],
   "source": [
    "from py2neo import Graph, authenticate\n",
    "import numpy as np\n",
    "import pandas as pd\n",
    "import matplotlib.pyplot as plt\n",
    "authenticate(\"localhost:7474\", \"neo4j\", \"1234\")\n",
    "graph = Graph()"
   ]
  },
  {
   "cell_type": "markdown",
   "metadata": {},
   "source": [
    "<h3>Consulta simple</h3>\n",
    "\n",
    "Comenzamos con una consulta simple, obtener 20 incidentes que impliquen a un perro. La consulta se hace utilizando el método <i>data</i> del objeto <i>graph</i> que devuelve una lista. A continuación, nos ayudamos de DataFrame que pertenece a la librería <i>pandas</i> para mostrar los datos de una forma mas sencilla y visual."
   ]
  },
  {
   "cell_type": "code",
   "execution_count": 47,
   "metadata": {},
   "outputs": [
    {
     "data": {
      "text/html": [
       "<div>\n",
       "<style scoped>\n",
       "    .dataframe tbody tr th:only-of-type {\n",
       "        vertical-align: middle;\n",
       "    }\n",
       "\n",
       "    .dataframe tbody tr th {\n",
       "        vertical-align: top;\n",
       "    }\n",
       "\n",
       "    .dataframe thead th {\n",
       "        text-align: right;\n",
       "    }\n",
       "</style>\n",
       "<table border=\"1\" class=\"dataframe\">\n",
       "  <thead>\n",
       "    <tr style=\"text-align: right;\">\n",
       "      <th></th>\n",
       "      <th>Description</th>\n",
       "      <th>Incident</th>\n",
       "    </tr>\n",
       "  </thead>\n",
       "  <tbody>\n",
       "    <tr>\n",
       "      <th>0</th>\n",
       "      <td>AIDED CASE, DOG BITE</td>\n",
       "      <td>150098630</td>\n",
       "    </tr>\n",
       "    <tr>\n",
       "      <th>1</th>\n",
       "      <td>AIDED CASE, DOG BITE</td>\n",
       "      <td>150113539</td>\n",
       "    </tr>\n",
       "    <tr>\n",
       "      <th>2</th>\n",
       "      <td>AIDED CASE, DOG BITE</td>\n",
       "      <td>150122295</td>\n",
       "    </tr>\n",
       "    <tr>\n",
       "      <th>3</th>\n",
       "      <td>AIDED CASE, DOG BITE</td>\n",
       "      <td>150123817</td>\n",
       "    </tr>\n",
       "    <tr>\n",
       "      <th>4</th>\n",
       "      <td>AIDED CASE, DOG BITE</td>\n",
       "      <td>150132153</td>\n",
       "    </tr>\n",
       "    <tr>\n",
       "      <th>5</th>\n",
       "      <td>AIDED CASE, DOG BITE</td>\n",
       "      <td>150141154</td>\n",
       "    </tr>\n",
       "    <tr>\n",
       "      <th>6</th>\n",
       "      <td>AIDED CASE, DOG BITE</td>\n",
       "      <td>150143984</td>\n",
       "    </tr>\n",
       "    <tr>\n",
       "      <th>7</th>\n",
       "      <td>AIDED CASE, DOG BITE</td>\n",
       "      <td>150150939</td>\n",
       "    </tr>\n",
       "    <tr>\n",
       "      <th>8</th>\n",
       "      <td>AIDED CASE, DOG BITE</td>\n",
       "      <td>150151200</td>\n",
       "    </tr>\n",
       "    <tr>\n",
       "      <th>9</th>\n",
       "      <td>AIDED CASE, DOG BITE</td>\n",
       "      <td>150151266</td>\n",
       "    </tr>\n",
       "    <tr>\n",
       "      <th>10</th>\n",
       "      <td>AIDED CASE, DOG BITE</td>\n",
       "      <td>150153109</td>\n",
       "    </tr>\n",
       "    <tr>\n",
       "      <th>11</th>\n",
       "      <td>AIDED CASE, DOG BITE</td>\n",
       "      <td>150157311</td>\n",
       "    </tr>\n",
       "    <tr>\n",
       "      <th>12</th>\n",
       "      <td>AIDED CASE, DOG BITE</td>\n",
       "      <td>150163142</td>\n",
       "    </tr>\n",
       "    <tr>\n",
       "      <th>13</th>\n",
       "      <td>AIDED CASE, DOG BITE</td>\n",
       "      <td>150166011</td>\n",
       "    </tr>\n",
       "    <tr>\n",
       "      <th>14</th>\n",
       "      <td>AIDED CASE, DOG BITE</td>\n",
       "      <td>150170539</td>\n",
       "    </tr>\n",
       "  </tbody>\n",
       "</table>\n",
       "</div>"
      ],
      "text/plain": [
       "             Description   Incident\n",
       "0   AIDED CASE, DOG BITE  150098630\n",
       "1   AIDED CASE, DOG BITE  150113539\n",
       "2   AIDED CASE, DOG BITE  150122295\n",
       "3   AIDED CASE, DOG BITE  150123817\n",
       "4   AIDED CASE, DOG BITE  150132153\n",
       "5   AIDED CASE, DOG BITE  150141154\n",
       "6   AIDED CASE, DOG BITE  150143984\n",
       "7   AIDED CASE, DOG BITE  150150939\n",
       "8   AIDED CASE, DOG BITE  150151200\n",
       "9   AIDED CASE, DOG BITE  150151266\n",
       "10  AIDED CASE, DOG BITE  150153109\n",
       "11  AIDED CASE, DOG BITE  150157311\n",
       "12  AIDED CASE, DOG BITE  150163142\n",
       "13  AIDED CASE, DOG BITE  150166011\n",
       "14  AIDED CASE, DOG BITE  150170539"
      ]
     },
     "execution_count": 47,
     "metadata": {},
     "output_type": "execute_result"
    }
   ],
   "source": [
    "result = pd.DataFrame(list(graph.data(\"MATCH (i:Incident) WHERE i.descript CONTAINS 'DOG' RETURN i.incidntNum as Incident, i.descript as Description LIMIT 15\")))\n",
    "result\n"
   ]
  },
  {
   "cell_type": "markdown",
   "metadata": {},
   "source": [
    "<h3>Creación de gráficas</h3><br>\n",
    "En la siguiente consulta se obtiene el número de incidentes que ocurren cada día de la semana ordenados de mayor a menor, de forma que conocemos los días más conflictivos. Se utiliza la función <i>count()</i> de Neo4J para contar el número de accidentes por cada día."
   ]
  },
  {
   "cell_type": "code",
   "execution_count": 48,
   "metadata": {},
   "outputs": [
    {
     "data": {
      "text/html": [
       "<div>\n",
       "<style scoped>\n",
       "    .dataframe tbody tr th:only-of-type {\n",
       "        vertical-align: middle;\n",
       "    }\n",
       "\n",
       "    .dataframe tbody tr th {\n",
       "        vertical-align: top;\n",
       "    }\n",
       "\n",
       "    .dataframe thead th {\n",
       "        text-align: right;\n",
       "    }\n",
       "</style>\n",
       "<table border=\"1\" class=\"dataframe\">\n",
       "  <thead>\n",
       "    <tr style=\"text-align: right;\">\n",
       "      <th></th>\n",
       "      <th>DayOfWeek</th>\n",
       "      <th>Incidents</th>\n",
       "    </tr>\n",
       "  </thead>\n",
       "  <tbody>\n",
       "    <tr>\n",
       "      <th>0</th>\n",
       "      <td>Friday</td>\n",
       "      <td>333229</td>\n",
       "    </tr>\n",
       "    <tr>\n",
       "      <th>1</th>\n",
       "      <td>Wednesday</td>\n",
       "      <td>319625</td>\n",
       "    </tr>\n",
       "    <tr>\n",
       "      <th>2</th>\n",
       "      <td>Saturday</td>\n",
       "      <td>316115</td>\n",
       "    </tr>\n",
       "    <tr>\n",
       "      <th>3</th>\n",
       "      <td>Thursday</td>\n",
       "      <td>311795</td>\n",
       "    </tr>\n",
       "    <tr>\n",
       "      <th>4</th>\n",
       "      <td>Tuesday</td>\n",
       "      <td>311106</td>\n",
       "    </tr>\n",
       "    <tr>\n",
       "      <th>5</th>\n",
       "      <td>Monday</td>\n",
       "      <td>302540</td>\n",
       "    </tr>\n",
       "    <tr>\n",
       "      <th>6</th>\n",
       "      <td>Sunday</td>\n",
       "      <td>290627</td>\n",
       "    </tr>\n",
       "  </tbody>\n",
       "</table>\n",
       "</div>"
      ],
      "text/plain": [
       "   DayOfWeek  Incidents\n",
       "0     Friday     333229\n",
       "1  Wednesday     319625\n",
       "2   Saturday     316115\n",
       "3   Thursday     311795\n",
       "4    Tuesday     311106\n",
       "5     Monday     302540\n",
       "6     Sunday     290627"
      ]
     },
     "execution_count": 48,
     "metadata": {},
     "output_type": "execute_result"
    }
   ],
   "source": [
    "result1= pd.DataFrame(list(graph.data(\"MATCH (i:Incident)-[:OCURRED_ON]-(d:DayOfWeek) RETURN d.dayOfWeek as DayOfWeek, count(i) as Incidents ORDER BY Incidents DESC\")))\n",
    "result1"
   ]
  },
  {
   "cell_type": "markdown",
   "metadata": {},
   "source": [
    "Utilizando el ejemplo anterior, se va a generar un gráfico de barras para visualizar los datos utilizando la \n",
    "librería <b>matplotlib</b>. Para ello, es necesario separar el resultado de la consulta en dos arrays, uno contiene\n",
    "los días de la semana y el otro el número de incidentes. El manejo de arrays es posible gracias a la librería \n",
    "<b>numpy</b>."
   ]
  },
  {
   "cell_type": "code",
   "execution_count": 50,
   "metadata": {},
   "outputs": [
    {
     "data": {
      "image/png": "[encoded data removed]",
      "text/plain": [
       "<matplotlib.figure.Figure at 0x7fe5a9adc8d0>"
      ]
     },
     "metadata": {},
     "output_type": "display_data"
    }
   ],
   "source": [
    "days = result1['DayOfWeek']\n",
    "incidents = result1['Incidents']\n",
    "\n",
    "index = np.arange(len(days))\n",
    "plt.bar(index, incidents)\n",
    "plt.xlabel('Day Of Week', fontsize=10)\n",
    "plt.ylabel('nº of incidents', fontsize=7)\n",
    "plt.xticks(index, days, fontsize=7, rotation=30)\n",
    "plt.title('Incidents/Day of Week')\n",
    "plt.show()"
   ]
  },
  {
   "cell_type": "markdown",
   "metadata": {},
   "source": [
    "<h3>Distritos más conflictivos</h3>"
   ]
  },
  {
   "cell_type": "code",
   "execution_count": 51,
   "metadata": {},
   "outputs": [
    {
     "data": {
      "text/html": [
       "<div>\n",
       "<style scoped>\n",
       "    .dataframe tbody tr th:only-of-type {\n",
       "        vertical-align: middle;\n",
       "    }\n",
       "\n",
       "    .dataframe tbody tr th {\n",
       "        vertical-align: top;\n",
       "    }\n",
       "\n",
       "    .dataframe thead th {\n",
       "        text-align: right;\n",
       "    }\n",
       "</style>\n",
       "<table border=\"1\" class=\"dataframe\">\n",
       "  <thead>\n",
       "    <tr style=\"text-align: right;\">\n",
       "      <th></th>\n",
       "      <th>District</th>\n",
       "      <th>Incidents</th>\n",
       "    </tr>\n",
       "  </thead>\n",
       "  <tbody>\n",
       "    <tr>\n",
       "      <th>0</th>\n",
       "      <td>SOUTHERN</td>\n",
       "      <td>394099</td>\n",
       "    </tr>\n",
       "    <tr>\n",
       "      <th>1</th>\n",
       "      <td>MISSION</td>\n",
       "      <td>295781</td>\n",
       "    </tr>\n",
       "    <tr>\n",
       "      <th>2</th>\n",
       "      <td>NORTHERN</td>\n",
       "      <td>268877</td>\n",
       "    </tr>\n",
       "    <tr>\n",
       "      <th>3</th>\n",
       "      <td>CENTRAL</td>\n",
       "      <td>222253</td>\n",
       "    </tr>\n",
       "    <tr>\n",
       "      <th>4</th>\n",
       "      <td>BAYVIEW</td>\n",
       "      <td>218462</td>\n",
       "    </tr>\n",
       "  </tbody>\n",
       "</table>\n",
       "</div>"
      ],
      "text/plain": [
       "   District  Incidents\n",
       "0  SOUTHERN     394099\n",
       "1   MISSION     295781\n",
       "2  NORTHERN     268877\n",
       "3   CENTRAL     222253\n",
       "4   BAYVIEW     218462"
      ]
     },
     "execution_count": 51,
     "metadata": {},
     "output_type": "execute_result"
    }
   ],
   "source": [
    "result2 = pd.DataFrame(list(graph.data(\"MATCH (i:Incident)-[:OCURRED_IN]-(d:District) RETURN d.PdDistrict as District, count(i) as Incidents ORDER BY Incidents DESC LIMIT 5\")))\n",
    "result2\n",
    "\n"
   ]
  },
  {
   "cell_type": "code",
   "execution_count": 52,
   "metadata": {},
   "outputs": [
    {
     "data": {
      "image/png": "[encoded data removed]",
      "text/plain": [
       "<matplotlib.figure.Figure at 0x7fe5a9b47d30>"
      ]
     },
     "metadata": {},
     "output_type": "display_data"
    }
   ],
   "source": [
    "districts = result2['District']\n",
    "incidents = result2['Incidents']\n",
    "\n",
    "index = np.arange(len(districts))\n",
    "plt.bar(index, incidents)\n",
    "plt.xlabel('Districts', fontsize=10)\n",
    "plt.ylabel('nº of incidents', fontsize=7)\n",
    "plt.xticks(index, districts, fontsize=7, rotation=30)\n",
    "plt.title('5 distrítos más problemáticos')\n",
    "plt.show()"
   ]
  },
  {
   "cell_type": "markdown",
   "metadata": {},
   "source": [
    "<h3>Incidentes más comunes</h3>"
   ]
  },
  {
   "cell_type": "code",
   "execution_count": 53,
   "metadata": {},
   "outputs": [
    {
     "data": {
      "text/html": [
       "<div>\n",
       "<style scoped>\n",
       "    .dataframe tbody tr th:only-of-type {\n",
       "        vertical-align: middle;\n",
       "    }\n",
       "\n",
       "    .dataframe tbody tr th {\n",
       "        vertical-align: top;\n",
       "    }\n",
       "\n",
       "    .dataframe thead th {\n",
       "        text-align: right;\n",
       "    }\n",
       "</style>\n",
       "<table border=\"1\" class=\"dataframe\">\n",
       "  <thead>\n",
       "    <tr style=\"text-align: right;\">\n",
       "      <th></th>\n",
       "      <th>Category</th>\n",
       "      <th>Incidents</th>\n",
       "    </tr>\n",
       "  </thead>\n",
       "  <tbody>\n",
       "    <tr>\n",
       "      <th>0</th>\n",
       "      <td>LARCENY/THEFT</td>\n",
       "      <td>526062</td>\n",
       "    </tr>\n",
       "    <tr>\n",
       "      <th>1</th>\n",
       "      <td>OTHER OFFENSES</td>\n",
       "      <td>462496</td>\n",
       "    </tr>\n",
       "    <tr>\n",
       "      <th>2</th>\n",
       "      <td>NON-CRIMINAL</td>\n",
       "      <td>280029</td>\n",
       "    </tr>\n",
       "    <tr>\n",
       "      <th>3</th>\n",
       "      <td>ASSAULT</td>\n",
       "      <td>275567</td>\n",
       "    </tr>\n",
       "    <tr>\n",
       "      <th>4</th>\n",
       "      <td>DRUG/NARCOTIC</td>\n",
       "      <td>192184</td>\n",
       "    </tr>\n",
       "  </tbody>\n",
       "</table>\n",
       "</div>"
      ],
      "text/plain": [
       "         Category  Incidents\n",
       "0   LARCENY/THEFT     526062\n",
       "1  OTHER OFFENSES     462496\n",
       "2    NON-CRIMINAL     280029\n",
       "3         ASSAULT     275567\n",
       "4   DRUG/NARCOTIC     192184"
      ]
     },
     "execution_count": 53,
     "metadata": {},
     "output_type": "execute_result"
    }
   ],
   "source": [
    "result3 = pd.DataFrame(list(graph.data(\"MATCH (i:Incident)-[:BELONGS_TO]-(c:Category) RETURN c.categoryName as Category, count(i) as Incidents ORDER BY Incidents DESC LIMIT 5\")))\n",
    "result3"
   ]
  },
  {
   "cell_type": "code",
   "execution_count": 38,
   "metadata": {},
   "outputs": [
    {
     "data": {
      "image/png": "[encoded data removed]",
      "text/plain": [
       "<matplotlib.figure.Figure at 0x7fe5aa1fe780>"
      ]
     },
     "metadata": {},
     "output_type": "display_data"
    }
   ],
   "source": [
    "categories = result3['Category']\n",
    "incidents = result3['Incidents']\n",
    "\n",
    "index = np.arange(len(categories))\n",
    "plt.bar(index, incidents)\n",
    "plt.xlabel('Categories', fontsize=10)\n",
    "plt.ylabel('nº of incidents', fontsize=7)\n",
    "plt.xticks(index, categories, fontsize=7, rotation=30)\n",
    "plt.title('5 delitos más comunes')\n",
    "plt.show()\n"
   ]
  },
  {
   "cell_type": "code",
   "execution_count": null,
   "metadata": {},
   "outputs": [],
   "source": []
  }
 ],
 "metadata": {
  "kernelspec": {
   "display_name": "Python 3",
   "language": "python",
   "name": "python3"
  },
  "language_info": {
   "codemirror_mode": {
    "name": "ipython",
    "version": 3
   },
   "file_extension": ".py",
   "mimetype": "text/x-python",
   "name": "python",
   "nbconvert_exporter": "python",
   "pygments_lexer": "ipython3",
   "version": "3.6.4"
  }
 },
 "nbformat": 4,
 "nbformat_minor": 2
}
